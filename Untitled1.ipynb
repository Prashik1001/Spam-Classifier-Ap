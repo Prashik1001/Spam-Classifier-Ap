{
  "nbformat": 4,
  "nbformat_minor": 0,
  "metadata": {
    "colab": {
      "provenance": [],
      "authorship_tag": "ABX9TyObM79HLiSMEuS1R6bU3LBw",
      "include_colab_link": true
    },
    "kernelspec": {
      "name": "python3",
      "display_name": "Python 3"
    },
    "language_info": {
      "name": "python"
    }
  },
  "cells": [
    {
      "cell_type": "markdown",
      "metadata": {
        "id": "view-in-github",
        "colab_type": "text"
      },
      "source": [
        "<a href=\"https://colab.research.google.com/github/Prashik1001/Spam-Classifier-Ap/blob/main/Untitled1.ipynb\" target=\"_parent\"><img src=\"https://colab.research.google.com/assets/colab-badge.svg\" alt=\"Open In Colab\"/></a>"
      ]
    },
    {
      "cell_type": "code",
      "execution_count": 3,
      "metadata": {
        "colab": {
          "base_uri": "https://localhost:8080/"
        },
        "id": "aoBxRZdghkkU",
        "outputId": "fd1b1e41-dca4-4f1a-ee9b-e2968025553f"
      },
      "outputs": [
        {
          "output_type": "stream",
          "name": "stdout",
          "text": [
            "Drive already mounted at /content/drive; to attempt to forcibly remount, call drive.mount(\"/content/drive\", force_remount=True).\n"
          ]
        }
      ],
      "source": [
        "from google.colab import drive\n",
        "drive.mount('/content/drive')\n"
      ]
    },
    {
      "cell_type": "markdown",
      "source": [
        "import gdown\n",
        "\n",
        "# Replace 'FILE_ID' with your actual file ID\n",
        "file_id = \"1a2b3c4d5e6f7g8h9i0j\"  # CHANGE THIS to your actual FILE_ID\n",
        "zip_path = \"/content/enron.zip\"\n",
        "\n",
        "# Download the file\n",
        "gdown.download(f\"https://drive.google.com/uc?id={file_id}\", zip_path, quiet=False)\n",
        "\n",
        "print(\"Download complete!\")\n"
      ],
      "metadata": {
        "id": "ZKgeUMQTpwkX"
      }
    },
    {
      "cell_type": "code",
      "source": [
        "from google.colab import files\n",
        "uploaded = files.upload()\n"
      ],
      "metadata": {
        "colab": {
          "base_uri": "https://localhost:8080/",
          "height": 73
        },
        "id": "Ibc7b83WqDSY",
        "outputId": "d0e74d6a-ea25-4556-e753-bce9bf725fe4"
      },
      "execution_count": 6,
      "outputs": [
        {
          "output_type": "display_data",
          "data": {
            "text/plain": [
              "<IPython.core.display.HTML object>"
            ],
            "text/html": [
              "\n",
              "     <input type=\"file\" id=\"files-2fd5a8ea-e5d9-4c09-9add-e9cdc2dd6bb8\" name=\"files[]\" multiple disabled\n",
              "        style=\"border:none\" />\n",
              "     <output id=\"result-2fd5a8ea-e5d9-4c09-9add-e9cdc2dd6bb8\">\n",
              "      Upload widget is only available when the cell has been executed in the\n",
              "      current browser session. Please rerun this cell to enable.\n",
              "      </output>\n",
              "      <script>// Copyright 2017 Google LLC\n",
              "//\n",
              "// Licensed under the Apache License, Version 2.0 (the \"License\");\n",
              "// you may not use this file except in compliance with the License.\n",
              "// You may obtain a copy of the License at\n",
              "//\n",
              "//      http://www.apache.org/licenses/LICENSE-2.0\n",
              "//\n",
              "// Unless required by applicable law or agreed to in writing, software\n",
              "// distributed under the License is distributed on an \"AS IS\" BASIS,\n",
              "// WITHOUT WARRANTIES OR CONDITIONS OF ANY KIND, either express or implied.\n",
              "// See the License for the specific language governing permissions and\n",
              "// limitations under the License.\n",
              "\n",
              "/**\n",
              " * @fileoverview Helpers for google.colab Python module.\n",
              " */\n",
              "(function(scope) {\n",
              "function span(text, styleAttributes = {}) {\n",
              "  const element = document.createElement('span');\n",
              "  element.textContent = text;\n",
              "  for (const key of Object.keys(styleAttributes)) {\n",
              "    element.style[key] = styleAttributes[key];\n",
              "  }\n",
              "  return element;\n",
              "}\n",
              "\n",
              "// Max number of bytes which will be uploaded at a time.\n",
              "const MAX_PAYLOAD_SIZE = 100 * 1024;\n",
              "\n",
              "function _uploadFiles(inputId, outputId) {\n",
              "  const steps = uploadFilesStep(inputId, outputId);\n",
              "  const outputElement = document.getElementById(outputId);\n",
              "  // Cache steps on the outputElement to make it available for the next call\n",
              "  // to uploadFilesContinue from Python.\n",
              "  outputElement.steps = steps;\n",
              "\n",
              "  return _uploadFilesContinue(outputId);\n",
              "}\n",
              "\n",
              "// This is roughly an async generator (not supported in the browser yet),\n",
              "// where there are multiple asynchronous steps and the Python side is going\n",
              "// to poll for completion of each step.\n",
              "// This uses a Promise to block the python side on completion of each step,\n",
              "// then passes the result of the previous step as the input to the next step.\n",
              "function _uploadFilesContinue(outputId) {\n",
              "  const outputElement = document.getElementById(outputId);\n",
              "  const steps = outputElement.steps;\n",
              "\n",
              "  const next = steps.next(outputElement.lastPromiseValue);\n",
              "  return Promise.resolve(next.value.promise).then((value) => {\n",
              "    // Cache the last promise value to make it available to the next\n",
              "    // step of the generator.\n",
              "    outputElement.lastPromiseValue = value;\n",
              "    return next.value.response;\n",
              "  });\n",
              "}\n",
              "\n",
              "/**\n",
              " * Generator function which is called between each async step of the upload\n",
              " * process.\n",
              " * @param {string} inputId Element ID of the input file picker element.\n",
              " * @param {string} outputId Element ID of the output display.\n",
              " * @return {!Iterable<!Object>} Iterable of next steps.\n",
              " */\n",
              "function* uploadFilesStep(inputId, outputId) {\n",
              "  const inputElement = document.getElementById(inputId);\n",
              "  inputElement.disabled = false;\n",
              "\n",
              "  const outputElement = document.getElementById(outputId);\n",
              "  outputElement.innerHTML = '';\n",
              "\n",
              "  const pickedPromise = new Promise((resolve) => {\n",
              "    inputElement.addEventListener('change', (e) => {\n",
              "      resolve(e.target.files);\n",
              "    });\n",
              "  });\n",
              "\n",
              "  const cancel = document.createElement('button');\n",
              "  inputElement.parentElement.appendChild(cancel);\n",
              "  cancel.textContent = 'Cancel upload';\n",
              "  const cancelPromise = new Promise((resolve) => {\n",
              "    cancel.onclick = () => {\n",
              "      resolve(null);\n",
              "    };\n",
              "  });\n",
              "\n",
              "  // Wait for the user to pick the files.\n",
              "  const files = yield {\n",
              "    promise: Promise.race([pickedPromise, cancelPromise]),\n",
              "    response: {\n",
              "      action: 'starting',\n",
              "    }\n",
              "  };\n",
              "\n",
              "  cancel.remove();\n",
              "\n",
              "  // Disable the input element since further picks are not allowed.\n",
              "  inputElement.disabled = true;\n",
              "\n",
              "  if (!files) {\n",
              "    return {\n",
              "      response: {\n",
              "        action: 'complete',\n",
              "      }\n",
              "    };\n",
              "  }\n",
              "\n",
              "  for (const file of files) {\n",
              "    const li = document.createElement('li');\n",
              "    li.append(span(file.name, {fontWeight: 'bold'}));\n",
              "    li.append(span(\n",
              "        `(${file.type || 'n/a'}) - ${file.size} bytes, ` +\n",
              "        `last modified: ${\n",
              "            file.lastModifiedDate ? file.lastModifiedDate.toLocaleDateString() :\n",
              "                                    'n/a'} - `));\n",
              "    const percent = span('0% done');\n",
              "    li.appendChild(percent);\n",
              "\n",
              "    outputElement.appendChild(li);\n",
              "\n",
              "    const fileDataPromise = new Promise((resolve) => {\n",
              "      const reader = new FileReader();\n",
              "      reader.onload = (e) => {\n",
              "        resolve(e.target.result);\n",
              "      };\n",
              "      reader.readAsArrayBuffer(file);\n",
              "    });\n",
              "    // Wait for the data to be ready.\n",
              "    let fileData = yield {\n",
              "      promise: fileDataPromise,\n",
              "      response: {\n",
              "        action: 'continue',\n",
              "      }\n",
              "    };\n",
              "\n",
              "    // Use a chunked sending to avoid message size limits. See b/62115660.\n",
              "    let position = 0;\n",
              "    do {\n",
              "      const length = Math.min(fileData.byteLength - position, MAX_PAYLOAD_SIZE);\n",
              "      const chunk = new Uint8Array(fileData, position, length);\n",
              "      position += length;\n",
              "\n",
              "      const base64 = btoa(String.fromCharCode.apply(null, chunk));\n",
              "      yield {\n",
              "        response: {\n",
              "          action: 'append',\n",
              "          file: file.name,\n",
              "          data: base64,\n",
              "        },\n",
              "      };\n",
              "\n",
              "      let percentDone = fileData.byteLength === 0 ?\n",
              "          100 :\n",
              "          Math.round((position / fileData.byteLength) * 100);\n",
              "      percent.textContent = `${percentDone}% done`;\n",
              "\n",
              "    } while (position < fileData.byteLength);\n",
              "  }\n",
              "\n",
              "  // All done.\n",
              "  yield {\n",
              "    response: {\n",
              "      action: 'complete',\n",
              "    }\n",
              "  };\n",
              "}\n",
              "\n",
              "scope.google = scope.google || {};\n",
              "scope.google.colab = scope.google.colab || {};\n",
              "scope.google.colab._files = {\n",
              "  _uploadFiles,\n",
              "  _uploadFilesContinue,\n",
              "};\n",
              "})(self);\n",
              "</script> "
            ]
          },
          "metadata": {}
        },
        {
          "output_type": "stream",
          "name": "stdout",
          "text": [
            "Saving archive.zip to archive.zip\n"
          ]
        }
      ]
    },
    {
      "cell_type": "code",
      "source": [
        "import zipfile\n",
        "\n",
        "zip_path = \"enron.zip\"  # Change this if needed\n",
        "extract_path = \"/content/enron/\"\n",
        "\n",
        "with zipfile.ZipFile(zip_path, 'r') as zip_ref:\n",
        "    zip_ref.extractall(extract_path)\n",
        "\n",
        "print(\"Extraction complete!\")\n",
        "\n"
      ],
      "metadata": {
        "colab": {
          "base_uri": "https://localhost:8080/",
          "height": 349
        },
        "id": "_Mwq2tjrHoCm",
        "outputId": "3e7a88c2-0f4f-4d78-f35c-b51c89740174"
      },
      "execution_count": 13,
      "outputs": [
        {
          "output_type": "error",
          "ename": "FileNotFoundError",
          "evalue": "[Errno 2] No such file or directory: 'enron.zip'",
          "traceback": [
            "\u001b[0;31m---------------------------------------------------------------------------\u001b[0m",
            "\u001b[0;31mFileNotFoundError\u001b[0m                         Traceback (most recent call last)",
            "\u001b[0;32m<ipython-input-13-c1c7d62f6a5b>\u001b[0m in \u001b[0;36m<cell line: 0>\u001b[0;34m()\u001b[0m\n\u001b[1;32m      4\u001b[0m \u001b[0mextract_path\u001b[0m \u001b[0;34m=\u001b[0m \u001b[0;34m\"/content/enron/\"\u001b[0m\u001b[0;34m\u001b[0m\u001b[0;34m\u001b[0m\u001b[0m\n\u001b[1;32m      5\u001b[0m \u001b[0;34m\u001b[0m\u001b[0m\n\u001b[0;32m----> 6\u001b[0;31m \u001b[0;32mwith\u001b[0m \u001b[0mzipfile\u001b[0m\u001b[0;34m.\u001b[0m\u001b[0mZipFile\u001b[0m\u001b[0;34m(\u001b[0m\u001b[0mzip_path\u001b[0m\u001b[0;34m,\u001b[0m \u001b[0;34m'r'\u001b[0m\u001b[0;34m)\u001b[0m \u001b[0;32mas\u001b[0m \u001b[0mzip_ref\u001b[0m\u001b[0;34m:\u001b[0m\u001b[0;34m\u001b[0m\u001b[0;34m\u001b[0m\u001b[0m\n\u001b[0m\u001b[1;32m      7\u001b[0m     \u001b[0mzip_ref\u001b[0m\u001b[0;34m.\u001b[0m\u001b[0mextractall\u001b[0m\u001b[0;34m(\u001b[0m\u001b[0mextract_path\u001b[0m\u001b[0;34m)\u001b[0m\u001b[0;34m\u001b[0m\u001b[0;34m\u001b[0m\u001b[0m\n\u001b[1;32m      8\u001b[0m \u001b[0;34m\u001b[0m\u001b[0m\n",
            "\u001b[0;32m/usr/lib/python3.11/zipfile.py\u001b[0m in \u001b[0;36m__init__\u001b[0;34m(self, file, mode, compression, allowZip64, compresslevel, strict_timestamps, metadata_encoding)\u001b[0m\n\u001b[1;32m   1293\u001b[0m             \u001b[0;32mwhile\u001b[0m \u001b[0;32mTrue\u001b[0m\u001b[0;34m:\u001b[0m\u001b[0;34m\u001b[0m\u001b[0;34m\u001b[0m\u001b[0m\n\u001b[1;32m   1294\u001b[0m                 \u001b[0;32mtry\u001b[0m\u001b[0;34m:\u001b[0m\u001b[0;34m\u001b[0m\u001b[0;34m\u001b[0m\u001b[0m\n\u001b[0;32m-> 1295\u001b[0;31m                     \u001b[0mself\u001b[0m\u001b[0;34m.\u001b[0m\u001b[0mfp\u001b[0m \u001b[0;34m=\u001b[0m \u001b[0mio\u001b[0m\u001b[0;34m.\u001b[0m\u001b[0mopen\u001b[0m\u001b[0;34m(\u001b[0m\u001b[0mfile\u001b[0m\u001b[0;34m,\u001b[0m \u001b[0mfilemode\u001b[0m\u001b[0;34m)\u001b[0m\u001b[0;34m\u001b[0m\u001b[0;34m\u001b[0m\u001b[0m\n\u001b[0m\u001b[1;32m   1296\u001b[0m                 \u001b[0;32mexcept\u001b[0m \u001b[0mOSError\u001b[0m\u001b[0;34m:\u001b[0m\u001b[0;34m\u001b[0m\u001b[0;34m\u001b[0m\u001b[0m\n\u001b[1;32m   1297\u001b[0m                     \u001b[0;32mif\u001b[0m \u001b[0mfilemode\u001b[0m \u001b[0;32min\u001b[0m \u001b[0mmodeDict\u001b[0m\u001b[0;34m:\u001b[0m\u001b[0;34m\u001b[0m\u001b[0;34m\u001b[0m\u001b[0m\n",
            "\u001b[0;31mFileNotFoundError\u001b[0m: [Errno 2] No such file or directory: 'enron.zip'"
          ]
        }
      ]
    },
    {
      "cell_type": "code",
      "source": [
        "import os\n",
        "\n",
        "# List files in the /content/ directory\n",
        "print(os.listdir(\"/content/\"))\n",
        "from google.colab import files\n",
        "\n",
        "uploaded = files.upload()  # This will prompt you to upload a file\n",
        "print(os.listdir(\"/content/\"))\n",
        "print(os.listdir(\"/content/\"))\n",
        "\n",
        "\n"
      ],
      "metadata": {
        "colab": {
          "base_uri": "https://localhost:8080/",
          "height": 125
        },
        "id": "jo38QcpIJBf4",
        "outputId": "d2a9b332-82e0-4d56-bfcd-e62b758b5812"
      },
      "execution_count": 17,
      "outputs": [
        {
          "output_type": "stream",
          "name": "stdout",
          "text": [
            "['.config', 'drive', 'archive (1).zip', 'archive.zip', 'sample_data']\n"
          ]
        },
        {
          "output_type": "display_data",
          "data": {
            "text/plain": [
              "<IPython.core.display.HTML object>"
            ],
            "text/html": [
              "\n",
              "     <input type=\"file\" id=\"files-0a3b258b-6f35-42c2-8741-c1b4ac3a6c29\" name=\"files[]\" multiple disabled\n",
              "        style=\"border:none\" />\n",
              "     <output id=\"result-0a3b258b-6f35-42c2-8741-c1b4ac3a6c29\">\n",
              "      Upload widget is only available when the cell has been executed in the\n",
              "      current browser session. Please rerun this cell to enable.\n",
              "      </output>\n",
              "      <script>// Copyright 2017 Google LLC\n",
              "//\n",
              "// Licensed under the Apache License, Version 2.0 (the \"License\");\n",
              "// you may not use this file except in compliance with the License.\n",
              "// You may obtain a copy of the License at\n",
              "//\n",
              "//      http://www.apache.org/licenses/LICENSE-2.0\n",
              "//\n",
              "// Unless required by applicable law or agreed to in writing, software\n",
              "// distributed under the License is distributed on an \"AS IS\" BASIS,\n",
              "// WITHOUT WARRANTIES OR CONDITIONS OF ANY KIND, either express or implied.\n",
              "// See the License for the specific language governing permissions and\n",
              "// limitations under the License.\n",
              "\n",
              "/**\n",
              " * @fileoverview Helpers for google.colab Python module.\n",
              " */\n",
              "(function(scope) {\n",
              "function span(text, styleAttributes = {}) {\n",
              "  const element = document.createElement('span');\n",
              "  element.textContent = text;\n",
              "  for (const key of Object.keys(styleAttributes)) {\n",
              "    element.style[key] = styleAttributes[key];\n",
              "  }\n",
              "  return element;\n",
              "}\n",
              "\n",
              "// Max number of bytes which will be uploaded at a time.\n",
              "const MAX_PAYLOAD_SIZE = 100 * 1024;\n",
              "\n",
              "function _uploadFiles(inputId, outputId) {\n",
              "  const steps = uploadFilesStep(inputId, outputId);\n",
              "  const outputElement = document.getElementById(outputId);\n",
              "  // Cache steps on the outputElement to make it available for the next call\n",
              "  // to uploadFilesContinue from Python.\n",
              "  outputElement.steps = steps;\n",
              "\n",
              "  return _uploadFilesContinue(outputId);\n",
              "}\n",
              "\n",
              "// This is roughly an async generator (not supported in the browser yet),\n",
              "// where there are multiple asynchronous steps and the Python side is going\n",
              "// to poll for completion of each step.\n",
              "// This uses a Promise to block the python side on completion of each step,\n",
              "// then passes the result of the previous step as the input to the next step.\n",
              "function _uploadFilesContinue(outputId) {\n",
              "  const outputElement = document.getElementById(outputId);\n",
              "  const steps = outputElement.steps;\n",
              "\n",
              "  const next = steps.next(outputElement.lastPromiseValue);\n",
              "  return Promise.resolve(next.value.promise).then((value) => {\n",
              "    // Cache the last promise value to make it available to the next\n",
              "    // step of the generator.\n",
              "    outputElement.lastPromiseValue = value;\n",
              "    return next.value.response;\n",
              "  });\n",
              "}\n",
              "\n",
              "/**\n",
              " * Generator function which is called between each async step of the upload\n",
              " * process.\n",
              " * @param {string} inputId Element ID of the input file picker element.\n",
              " * @param {string} outputId Element ID of the output display.\n",
              " * @return {!Iterable<!Object>} Iterable of next steps.\n",
              " */\n",
              "function* uploadFilesStep(inputId, outputId) {\n",
              "  const inputElement = document.getElementById(inputId);\n",
              "  inputElement.disabled = false;\n",
              "\n",
              "  const outputElement = document.getElementById(outputId);\n",
              "  outputElement.innerHTML = '';\n",
              "\n",
              "  const pickedPromise = new Promise((resolve) => {\n",
              "    inputElement.addEventListener('change', (e) => {\n",
              "      resolve(e.target.files);\n",
              "    });\n",
              "  });\n",
              "\n",
              "  const cancel = document.createElement('button');\n",
              "  inputElement.parentElement.appendChild(cancel);\n",
              "  cancel.textContent = 'Cancel upload';\n",
              "  const cancelPromise = new Promise((resolve) => {\n",
              "    cancel.onclick = () => {\n",
              "      resolve(null);\n",
              "    };\n",
              "  });\n",
              "\n",
              "  // Wait for the user to pick the files.\n",
              "  const files = yield {\n",
              "    promise: Promise.race([pickedPromise, cancelPromise]),\n",
              "    response: {\n",
              "      action: 'starting',\n",
              "    }\n",
              "  };\n",
              "\n",
              "  cancel.remove();\n",
              "\n",
              "  // Disable the input element since further picks are not allowed.\n",
              "  inputElement.disabled = true;\n",
              "\n",
              "  if (!files) {\n",
              "    return {\n",
              "      response: {\n",
              "        action: 'complete',\n",
              "      }\n",
              "    };\n",
              "  }\n",
              "\n",
              "  for (const file of files) {\n",
              "    const li = document.createElement('li');\n",
              "    li.append(span(file.name, {fontWeight: 'bold'}));\n",
              "    li.append(span(\n",
              "        `(${file.type || 'n/a'}) - ${file.size} bytes, ` +\n",
              "        `last modified: ${\n",
              "            file.lastModifiedDate ? file.lastModifiedDate.toLocaleDateString() :\n",
              "                                    'n/a'} - `));\n",
              "    const percent = span('0% done');\n",
              "    li.appendChild(percent);\n",
              "\n",
              "    outputElement.appendChild(li);\n",
              "\n",
              "    const fileDataPromise = new Promise((resolve) => {\n",
              "      const reader = new FileReader();\n",
              "      reader.onload = (e) => {\n",
              "        resolve(e.target.result);\n",
              "      };\n",
              "      reader.readAsArrayBuffer(file);\n",
              "    });\n",
              "    // Wait for the data to be ready.\n",
              "    let fileData = yield {\n",
              "      promise: fileDataPromise,\n",
              "      response: {\n",
              "        action: 'continue',\n",
              "      }\n",
              "    };\n",
              "\n",
              "    // Use a chunked sending to avoid message size limits. See b/62115660.\n",
              "    let position = 0;\n",
              "    do {\n",
              "      const length = Math.min(fileData.byteLength - position, MAX_PAYLOAD_SIZE);\n",
              "      const chunk = new Uint8Array(fileData, position, length);\n",
              "      position += length;\n",
              "\n",
              "      const base64 = btoa(String.fromCharCode.apply(null, chunk));\n",
              "      yield {\n",
              "        response: {\n",
              "          action: 'append',\n",
              "          file: file.name,\n",
              "          data: base64,\n",
              "        },\n",
              "      };\n",
              "\n",
              "      let percentDone = fileData.byteLength === 0 ?\n",
              "          100 :\n",
              "          Math.round((position / fileData.byteLength) * 100);\n",
              "      percent.textContent = `${percentDone}% done`;\n",
              "\n",
              "    } while (position < fileData.byteLength);\n",
              "  }\n",
              "\n",
              "  // All done.\n",
              "  yield {\n",
              "    response: {\n",
              "      action: 'complete',\n",
              "    }\n",
              "  };\n",
              "}\n",
              "\n",
              "scope.google = scope.google || {};\n",
              "scope.google.colab = scope.google.colab || {};\n",
              "scope.google.colab._files = {\n",
              "  _uploadFiles,\n",
              "  _uploadFilesContinue,\n",
              "};\n",
              "})(self);\n",
              "</script> "
            ]
          },
          "metadata": {}
        },
        {
          "output_type": "stream",
          "name": "stdout",
          "text": [
            "Saving archive.zip to archive (2).zip\n",
            "['.config', 'drive', 'archive (1).zip', 'archive (2).zip', 'archive.zip', 'sample_data']\n",
            "['.config', 'drive', 'archive (1).zip', 'archive (2).zip', 'archive.zip', 'sample_data']\n"
          ]
        }
      ]
    },
    {
      "cell_type": "code",
      "source": [
        "import zipfile\n",
        "\n",
        "zip_path = \"/content/archive.zip\"  # Make sure this matches your file location\n",
        "extract_path = \"/content/enron/\"  # Destination folder\n",
        "\n",
        "# Extract the ZIP file\n",
        "with zipfile.ZipFile(zip_path, 'r') as zip_ref:\n",
        "    zip_ref.extractall(extract_path)\n",
        "\n",
        "print(\"Extraction complete!\")\n"
      ],
      "metadata": {
        "colab": {
          "base_uri": "https://localhost:8080/"
        },
        "id": "McjQDFxSMWiL",
        "outputId": "68f5ec3f-5d8b-48ca-816d-d150a4f96a7e"
      },
      "execution_count": 20,
      "outputs": [
        {
          "output_type": "stream",
          "name": "stdout",
          "text": [
            "Extraction complete!\n"
          ]
        }
      ]
    },
    {
      "cell_type": "code",
      "source": [
        "import os\n",
        "\n",
        "# Define the extracted folder path\n",
        "extract_path = \"/content/enron/\"\n",
        "\n",
        "# List all files and directories\n",
        "files = os.listdir(extract_path)\n",
        "\n",
        "# Display the extracted contents\n",
        "print(\"📂 Extracted Files and Folders:\")\n",
        "for file in files:\n",
        "    print(\"-\", file)\n"
      ],
      "metadata": {
        "colab": {
          "base_uri": "https://localhost:8080/"
        },
        "id": "ZPPKalzMNXGo",
        "outputId": "5d9bd212-48fe-4f0a-b6df-954ca431ec5c"
      },
      "execution_count": 21,
      "outputs": [
        {
          "output_type": "stream",
          "name": "stdout",
          "text": [
            "📂 Extracted Files and Folders:\n",
            "- enron5\n",
            "- enron4\n",
            "- enron3\n",
            "- enron6\n",
            "- enron2\n",
            "- enron1\n"
          ]
        }
      ]
    },
    {
      "cell_type": "code",
      "source": [
        "import os\n",
        "import pandas as pd\n",
        "import re\n",
        "import string\n",
        "import nltk\n",
        "from nltk.corpus import stopwords\n",
        "from sklearn.model_selection import train_test_split\n",
        "from sklearn.feature_extraction.text import TfidfVectorizer\n",
        "\n",
        "# Download NLTK stopwords (if not already installed)\n",
        "nltk.download(\"stopwords\")\n",
        "\n",
        "# Define the dataset path\n",
        "dataset_path = \"/content/enron/maildir/\"  # Adjust if needed, add maildir to the path\n",
        "\n",
        "# Function to read emails from the extracted folders\n",
        "def load_emails(folder_path, label):\n",
        "    emails = []\n",
        "    for filename in os.listdir(folder_path):\n",
        "        file_path = os.path.join(folder_path, filename)\n",
        "        with open(file_path, \"r\", encoding=\"latin-1\") as f:\n",
        "            content = f.read()\n",
        "            emails.append((content, label))\n",
        "    return emails\n",
        "\n",
        "# Load spam and non-spam emails\n",
        "spam_emails = load_emails(dataset_path + \"lay-k/spam/\", 1)  # 1 for spam, update spam path\n",
        "ham_emails = load_emails(dataset_path + \"lay-k/ham/\", 0)  # 0 for non-spam, update ham path\n",
        "\n",
        "# Combine all emails\n",
        "all_emails = spam_emails + ham_emails\n",
        "\n",
        "# Convert to a Pandas DataFrame\n",
        "df = pd.DataFrame(all_emails, columns=[\"email\", \"label\"])\n",
        "\n",
        "# Display first few rows\n",
        "print(df.head())\n",
        "\n",
        "# Function to clean email text\n",
        "def clean_text(text):\n",
        "    text = text.lower()  # Convert to lowercase\n",
        "    text = re.sub(r'\\d+', '', text)  # Remove numbers\n",
        "    text = text.translate(str.maketrans('', '', string.punctuation))  # Remove punctuation\n",
        "    words = text.split()  # Tokenize text\n",
        "    words = [word for word in words if word not in stopwords.words(\"english\")]  # Remove stopwords\n",
        "    return \" \".join(words)\n",
        "\n",
        "# Apply text cleaning\n",
        "df[\"cleaned_email\"] = df[\"email\"].apply(clean_text)\n",
        "\n",
        "# Convert text to TF-IDF features\n",
        "vectorizer = TfidfVectorizer(max_features=5000)  # Keep top 5000 words\n",
        "X = vectorizer.fit_transform(df[\"cleaned_email\"])  # Transform text into numerical form\n",
        "y = df[\"label\"]  # Labels (spam = 1, non-spam = 0)\n",
        "\n",
        "# Split into training and testing sets (80% train, 20% test)\n",
        "X_train, X_test, y_train, y_test = train_test_split(X, y, test_size=0.2, random_state=42)\n",
        "\n",
        "print(\"✅ Preprocessing Complete! Data is ready for model training.\")"
      ],
      "metadata": {
        "colab": {
          "base_uri": "https://localhost:8080/",
          "height": 367
        },
        "id": "bmXVy-q8PB69",
        "outputId": "6656bce1-49fd-45a4-dd5f-1a363d22ebde"
      },
      "execution_count": 27,
      "outputs": [
        {
          "output_type": "stream",
          "name": "stderr",
          "text": [
            "[nltk_data] Downloading package stopwords to /root/nltk_data...\n",
            "[nltk_data]   Package stopwords is already up-to-date!\n"
          ]
        },
        {
          "output_type": "error",
          "ename": "FileNotFoundError",
          "evalue": "[Errno 2] No such file or directory: '/content/enron/maildir/lay-k/spam/'",
          "traceback": [
            "\u001b[0;31m---------------------------------------------------------------------------\u001b[0m",
            "\u001b[0;31mFileNotFoundError\u001b[0m                         Traceback (most recent call last)",
            "\u001b[0;32m<ipython-input-27-8da195005415>\u001b[0m in \u001b[0;36m<cell line: 0>\u001b[0;34m()\u001b[0m\n\u001b[1;32m     25\u001b[0m \u001b[0;34m\u001b[0m\u001b[0m\n\u001b[1;32m     26\u001b[0m \u001b[0;31m# Load spam and non-spam emails\u001b[0m\u001b[0;34m\u001b[0m\u001b[0;34m\u001b[0m\u001b[0m\n\u001b[0;32m---> 27\u001b[0;31m \u001b[0mspam_emails\u001b[0m \u001b[0;34m=\u001b[0m \u001b[0mload_emails\u001b[0m\u001b[0;34m(\u001b[0m\u001b[0mdataset_path\u001b[0m \u001b[0;34m+\u001b[0m \u001b[0;34m\"lay-k/spam/\"\u001b[0m\u001b[0;34m,\u001b[0m \u001b[0;36m1\u001b[0m\u001b[0;34m)\u001b[0m  \u001b[0;31m# 1 for spam, update spam path\u001b[0m\u001b[0;34m\u001b[0m\u001b[0;34m\u001b[0m\u001b[0m\n\u001b[0m\u001b[1;32m     28\u001b[0m \u001b[0mham_emails\u001b[0m \u001b[0;34m=\u001b[0m \u001b[0mload_emails\u001b[0m\u001b[0;34m(\u001b[0m\u001b[0mdataset_path\u001b[0m \u001b[0;34m+\u001b[0m \u001b[0;34m\"lay-k/ham/\"\u001b[0m\u001b[0;34m,\u001b[0m \u001b[0;36m0\u001b[0m\u001b[0;34m)\u001b[0m  \u001b[0;31m# 0 for non-spam, update ham path\u001b[0m\u001b[0;34m\u001b[0m\u001b[0;34m\u001b[0m\u001b[0m\n\u001b[1;32m     29\u001b[0m \u001b[0;34m\u001b[0m\u001b[0m\n",
            "\u001b[0;32m<ipython-input-27-8da195005415>\u001b[0m in \u001b[0;36mload_emails\u001b[0;34m(folder_path, label)\u001b[0m\n\u001b[1;32m     17\u001b[0m \u001b[0;32mdef\u001b[0m \u001b[0mload_emails\u001b[0m\u001b[0;34m(\u001b[0m\u001b[0mfolder_path\u001b[0m\u001b[0;34m,\u001b[0m \u001b[0mlabel\u001b[0m\u001b[0;34m)\u001b[0m\u001b[0;34m:\u001b[0m\u001b[0;34m\u001b[0m\u001b[0;34m\u001b[0m\u001b[0m\n\u001b[1;32m     18\u001b[0m     \u001b[0memails\u001b[0m \u001b[0;34m=\u001b[0m \u001b[0;34m[\u001b[0m\u001b[0;34m]\u001b[0m\u001b[0;34m\u001b[0m\u001b[0;34m\u001b[0m\u001b[0m\n\u001b[0;32m---> 19\u001b[0;31m     \u001b[0;32mfor\u001b[0m \u001b[0mfilename\u001b[0m \u001b[0;32min\u001b[0m \u001b[0mos\u001b[0m\u001b[0;34m.\u001b[0m\u001b[0mlistdir\u001b[0m\u001b[0;34m(\u001b[0m\u001b[0mfolder_path\u001b[0m\u001b[0;34m)\u001b[0m\u001b[0;34m:\u001b[0m\u001b[0;34m\u001b[0m\u001b[0;34m\u001b[0m\u001b[0m\n\u001b[0m\u001b[1;32m     20\u001b[0m         \u001b[0mfile_path\u001b[0m \u001b[0;34m=\u001b[0m \u001b[0mos\u001b[0m\u001b[0;34m.\u001b[0m\u001b[0mpath\u001b[0m\u001b[0;34m.\u001b[0m\u001b[0mjoin\u001b[0m\u001b[0;34m(\u001b[0m\u001b[0mfolder_path\u001b[0m\u001b[0;34m,\u001b[0m \u001b[0mfilename\u001b[0m\u001b[0;34m)\u001b[0m\u001b[0;34m\u001b[0m\u001b[0;34m\u001b[0m\u001b[0m\n\u001b[1;32m     21\u001b[0m         \u001b[0;32mwith\u001b[0m \u001b[0mopen\u001b[0m\u001b[0;34m(\u001b[0m\u001b[0mfile_path\u001b[0m\u001b[0;34m,\u001b[0m \u001b[0;34m\"r\"\u001b[0m\u001b[0;34m,\u001b[0m \u001b[0mencoding\u001b[0m\u001b[0;34m=\u001b[0m\u001b[0;34m\"latin-1\"\u001b[0m\u001b[0;34m)\u001b[0m \u001b[0;32mas\u001b[0m \u001b[0mf\u001b[0m\u001b[0;34m:\u001b[0m\u001b[0;34m\u001b[0m\u001b[0;34m\u001b[0m\u001b[0m\n",
            "\u001b[0;31mFileNotFoundError\u001b[0m: [Errno 2] No such file or directory: '/content/enron/maildir/lay-k/spam/'"
          ]
        }
      ]
    },
    {
      "cell_type": "code",
      "source": [
        "import os\n",
        "\n",
        "dataset_path = \"/content/enron/\"\n",
        "\n",
        "# List main extracted folders\n",
        "print(\"Main directories:\", os.listdir(dataset_path))\n"
      ],
      "metadata": {
        "colab": {
          "base_uri": "https://localhost:8080/"
        },
        "id": "C6ShfKXFQ63b",
        "outputId": "ca052931-20cb-4da3-ed4f-3598a53a6a0e"
      },
      "execution_count": 28,
      "outputs": [
        {
          "output_type": "stream",
          "name": "stdout",
          "text": [
            "Main directories: ['enron5', 'enron4', 'enron3', 'enron6', 'enron2', 'enron1']\n"
          ]
        }
      ]
    },
    {
      "cell_type": "code",
      "source": [
        "\n",
        "import os\n",
        "\n",
        "dataset_path = \"/content/enron/\"\n",
        "\n",
        "# List main extracted contents\n",
        "print(\"Extracted contents:\", os.listdir(dataset_path))\n",
        "\n"
      ],
      "metadata": {
        "colab": {
          "base_uri": "https://localhost:8080/"
        },
        "id": "bsv1XlFBRDRO",
        "outputId": "045460a7-7568-4715-9758-86c988cbbaf8"
      },
      "execution_count": 32,
      "outputs": [
        {
          "output_type": "stream",
          "name": "stdout",
          "text": [
            "Extracted contents: ['enron5', 'enron4', 'enron3', 'enron6', 'enron2', 'enron1']\n"
          ]
        }
      ]
    },
    {
      "cell_type": "code",
      "source": [
        "import zipfile\n",
        "\n",
        "zip_path = \"/content/archive.zip\"  # Ensure this is correct\n",
        "extract_path = \"/content/enron/\"\n",
        "\n",
        "# Extract ZIP again\n",
        "with zipfile.ZipFile(zip_path, 'r') as zip_ref:\n",
        "    zip_ref.extractall(extract_path)\n",
        "\n",
        "print(\"Extraction completed successfully!\")\n"
      ],
      "metadata": {
        "colab": {
          "base_uri": "https://localhost:8080/"
        },
        "id": "Sqat_p6BRtJZ",
        "outputId": "ee949f46-2b34-4841-d74a-303a7881f16e"
      },
      "execution_count": 34,
      "outputs": [
        {
          "output_type": "stream",
          "name": "stdout",
          "text": [
            "Extraction completed successfully!\n"
          ]
        }
      ]
    },
    {
      "cell_type": "code",
      "source": [
        "print(\"Extracted contents after re-extraction:\", os.listdir(dataset_path))\n"
      ],
      "metadata": {
        "colab": {
          "base_uri": "https://localhost:8080/"
        },
        "id": "lWBlIbvUSEJw",
        "outputId": "797fdffd-13c6-42fc-fbda-17ae5e21d6ee"
      },
      "execution_count": 35,
      "outputs": [
        {
          "output_type": "stream",
          "name": "stdout",
          "text": [
            "Extracted contents after re-extraction: ['enron5', 'enron4', 'enron3', 'enron6', 'enron2', 'enron1']\n"
          ]
        }
      ]
    },
    {
      "cell_type": "code",
      "source": [
        "spam_path = \"/content/enron/spam/\"  # Update based on actual structure\n",
        "ham_path = \"/content/enron/ham/\"  # Update based on actual structure\n",
        "\n",
        "# Load emails if the structure is different\n",
        "spam_emails = load_emails(spam_path, 1)\n",
        "ham_emails = load_emails(ham_path, 0)\n"
      ],
      "metadata": {
        "colab": {
          "base_uri": "https://localhost:8080/",
          "height": 315
        },
        "id": "ik_iURZBSKpr",
        "outputId": "46462dcf-0220-4058-d34b-c75919159520"
      },
      "execution_count": 36,
      "outputs": [
        {
          "output_type": "error",
          "ename": "FileNotFoundError",
          "evalue": "[Errno 2] No such file or directory: '/content/enron/spam/'",
          "traceback": [
            "\u001b[0;31m---------------------------------------------------------------------------\u001b[0m",
            "\u001b[0;31mFileNotFoundError\u001b[0m                         Traceback (most recent call last)",
            "\u001b[0;32m<ipython-input-36-57b31eff3b96>\u001b[0m in \u001b[0;36m<cell line: 0>\u001b[0;34m()\u001b[0m\n\u001b[1;32m      3\u001b[0m \u001b[0;34m\u001b[0m\u001b[0m\n\u001b[1;32m      4\u001b[0m \u001b[0;31m# Load emails if the structure is different\u001b[0m\u001b[0;34m\u001b[0m\u001b[0;34m\u001b[0m\u001b[0m\n\u001b[0;32m----> 5\u001b[0;31m \u001b[0mspam_emails\u001b[0m \u001b[0;34m=\u001b[0m \u001b[0mload_emails\u001b[0m\u001b[0;34m(\u001b[0m\u001b[0mspam_path\u001b[0m\u001b[0;34m,\u001b[0m \u001b[0;36m1\u001b[0m\u001b[0;34m)\u001b[0m\u001b[0;34m\u001b[0m\u001b[0;34m\u001b[0m\u001b[0m\n\u001b[0m\u001b[1;32m      6\u001b[0m \u001b[0mham_emails\u001b[0m \u001b[0;34m=\u001b[0m \u001b[0mload_emails\u001b[0m\u001b[0;34m(\u001b[0m\u001b[0mham_path\u001b[0m\u001b[0;34m,\u001b[0m \u001b[0;36m0\u001b[0m\u001b[0;34m)\u001b[0m\u001b[0;34m\u001b[0m\u001b[0;34m\u001b[0m\u001b[0m\n",
            "\u001b[0;32m<ipython-input-27-8da195005415>\u001b[0m in \u001b[0;36mload_emails\u001b[0;34m(folder_path, label)\u001b[0m\n\u001b[1;32m     17\u001b[0m \u001b[0;32mdef\u001b[0m \u001b[0mload_emails\u001b[0m\u001b[0;34m(\u001b[0m\u001b[0mfolder_path\u001b[0m\u001b[0;34m,\u001b[0m \u001b[0mlabel\u001b[0m\u001b[0;34m)\u001b[0m\u001b[0;34m:\u001b[0m\u001b[0;34m\u001b[0m\u001b[0;34m\u001b[0m\u001b[0m\n\u001b[1;32m     18\u001b[0m     \u001b[0memails\u001b[0m \u001b[0;34m=\u001b[0m \u001b[0;34m[\u001b[0m\u001b[0;34m]\u001b[0m\u001b[0;34m\u001b[0m\u001b[0;34m\u001b[0m\u001b[0m\n\u001b[0;32m---> 19\u001b[0;31m     \u001b[0;32mfor\u001b[0m \u001b[0mfilename\u001b[0m \u001b[0;32min\u001b[0m \u001b[0mos\u001b[0m\u001b[0;34m.\u001b[0m\u001b[0mlistdir\u001b[0m\u001b[0;34m(\u001b[0m\u001b[0mfolder_path\u001b[0m\u001b[0;34m)\u001b[0m\u001b[0;34m:\u001b[0m\u001b[0;34m\u001b[0m\u001b[0;34m\u001b[0m\u001b[0m\n\u001b[0m\u001b[1;32m     20\u001b[0m         \u001b[0mfile_path\u001b[0m \u001b[0;34m=\u001b[0m \u001b[0mos\u001b[0m\u001b[0;34m.\u001b[0m\u001b[0mpath\u001b[0m\u001b[0;34m.\u001b[0m\u001b[0mjoin\u001b[0m\u001b[0;34m(\u001b[0m\u001b[0mfolder_path\u001b[0m\u001b[0;34m,\u001b[0m \u001b[0mfilename\u001b[0m\u001b[0;34m)\u001b[0m\u001b[0;34m\u001b[0m\u001b[0;34m\u001b[0m\u001b[0m\n\u001b[1;32m     21\u001b[0m         \u001b[0;32mwith\u001b[0m \u001b[0mopen\u001b[0m\u001b[0;34m(\u001b[0m\u001b[0mfile_path\u001b[0m\u001b[0;34m,\u001b[0m \u001b[0;34m\"r\"\u001b[0m\u001b[0;34m,\u001b[0m \u001b[0mencoding\u001b[0m\u001b[0;34m=\u001b[0m\u001b[0;34m\"latin-1\"\u001b[0m\u001b[0;34m)\u001b[0m \u001b[0;32mas\u001b[0m \u001b[0mf\u001b[0m\u001b[0;34m:\u001b[0m\u001b[0;34m\u001b[0m\u001b[0;34m\u001b[0m\u001b[0m\n",
            "\u001b[0;31mFileNotFoundError\u001b[0m: [Errno 2] No such file or directory: '/content/enron/spam/'"
          ]
        }
      ]
    },
    {
      "cell_type": "code",
      "source": [
        "# Function to read emails from extracted folders\n",
        "def load_emails(folder_path, label):\n",
        "    emails = []\n",
        "    for filename in os.listdir(folder_path):\n",
        "        file_path = os.path.join(folder_path, filename)\n",
        "        with open(file_path, \"r\", encoding=\"latin-1\") as f:\n",
        "            content = f.read()\n",
        "            emails.append((content, label))\n",
        "    return emails\n",
        "\n",
        "# Update paths based on extracted structure\n",
        "spam_path = \"/content/enron/maildir/lay-k/spam/\"  # Adjust if needed\n",
        "ham_path = \"/content/enron/maildir/lay-k/ham/\"    # Adjust if needed\n",
        "\n",
        "# Check if paths exist before loading emails\n",
        "if os.path.exists(spam_path) and os.path.exists(ham_path):\n",
        "    spam_emails = load_emails(spam_path, 1)  # 1 for spam\n",
        "    ham_emails = load_emails(ham_path, 0)    # 0 for non-spam\n",
        "    print(\"✅ Emails loaded successfully!\")\n",
        "else:\n",
        "    print(\"❌ Error: One or both email directories not found! Check the extracted folder structure.\")\n"
      ],
      "metadata": {
        "colab": {
          "base_uri": "https://localhost:8080/"
        },
        "id": "JGN0oNYaSSp2",
        "outputId": "ee0bf66e-a1bd-432a-e69e-fd594e637bef"
      },
      "execution_count": 37,
      "outputs": [
        {
          "output_type": "stream",
          "name": "stdout",
          "text": [
            "❌ Error: One or both email directories not found! Check the extracted folder structure.\n"
          ]
        }
      ]
    },
    {
      "cell_type": "code",
      "source": [
        "import os\n",
        "\n",
        "dataset_path = \"/content/enron/\"\n",
        "\n",
        "# List all extracted directories\n",
        "print(\"📂 Extracted folder contents:\", os.listdir(dataset_path))\n",
        "\n",
        "# Check if 'maildir' exists inside 'enron'\n",
        "maildir_path = os.path.join(dataset_path, \"maildir\")\n",
        "if os.path.exists(maildir_path):\n",
        "    print(\"📂 'maildir' found! Listing contents...\")\n",
        "    print(os.listdir(maildir_path))\n",
        "else:\n",
        "    print(\"❌ 'maildir' folder NOT found inside extracted files!\")\n"
      ],
      "metadata": {
        "colab": {
          "base_uri": "https://localhost:8080/"
        },
        "id": "1QPelrkiSiT9",
        "outputId": "c7e34cf8-ef31-4e02-f6b8-e5eeb8ce6260"
      },
      "execution_count": 38,
      "outputs": [
        {
          "output_type": "stream",
          "name": "stdout",
          "text": [
            "📂 Extracted folder contents: ['enron5', 'enron4', 'enron3', 'enron6', 'enron2', 'enron1']\n",
            "❌ 'maildir' folder NOT found inside extracted files!\n"
          ]
        }
      ]
    },
    {
      "cell_type": "code",
      "source": [
        "if os.path.exists(spam_path) and os.path.exists(ham_path):\n",
        "    spam_emails = load_emails(spam_path, 1)  # 1 for spam\n",
        "    ham_emails = load_emails(ham_path, 0)    # 0 for non-spam\n",
        "    print(\"✅ Emails loaded successfully!\")\n",
        "else:\n",
        "    print(\"❌ Still not found! Check extracted folder names and update paths accordingly.\")\n"
      ],
      "metadata": {
        "colab": {
          "base_uri": "https://localhost:8080/"
        },
        "id": "rllJ76YUSrYC",
        "outputId": "a6dd3e6f-b88c-423e-8fb1-59c25468081d"
      },
      "execution_count": 40,
      "outputs": [
        {
          "output_type": "stream",
          "name": "stdout",
          "text": [
            "❌ Still not found! Check extracted folder names and update paths accordingly.\n"
          ]
        }
      ]
    },
    {
      "cell_type": "code",
      "source": [
        "import os\n",
        "\n",
        "dataset_path = \"/content/enron/\"  # Change if your path is different\n",
        "\n",
        "# Walk through all directories and subdirectories\n",
        "for root, dirs, files in os.walk(dataset_path):\n",
        "    print(f\"📂 Directory: {root}\")\n",
        "    for d in dirs:\n",
        "        print(f\"  📁 {d}\")\n",
        "    for f in files[:5]:  # Only print first 5 files per folder to avoid clutter\n",
        "        print(f\"  📄 {f}\")\n",
        "    print(\"-\" * 50)\n"
      ],
      "metadata": {
        "colab": {
          "base_uri": "https://localhost:8080/"
        },
        "id": "ZtckQTFRTLef",
        "outputId": "344a90aa-7df7-48b5-cb1b-ff624b107ab9"
      },
      "execution_count": 41,
      "outputs": [
        {
          "output_type": "stream",
          "name": "stdout",
          "text": [
            "📂 Directory: /content/enron/\n",
            "  📁 enron5\n",
            "  📁 enron4\n",
            "  📁 enron3\n",
            "  📁 enron6\n",
            "  📁 enron2\n",
            "  📁 enron1\n",
            "--------------------------------------------------\n",
            "📂 Directory: /content/enron/enron5\n",
            "  📁 spam\n",
            "  📁 ham\n",
            "  📄 Summary.txt\n",
            "--------------------------------------------------\n",
            "📂 Directory: /content/enron/enron5/spam\n",
            "  📄 4078.2005-07-15.SA_and_HP.spam.txt\n",
            "  📄 1273.2002-09-20.SA_and_HP.spam.txt\n",
            "  📄 5081.2005-07-21.SA_and_HP.spam.txt\n",
            "  📄 0168.2002-05-14.SA_and_HP.spam.txt\n",
            "  📄 1281.2002-09-23.SA_and_HP.spam.txt\n",
            "--------------------------------------------------\n",
            "📂 Directory: /content/enron/enron5/ham\n",
            "  📄 1668.2000-06-27.beck.ham.txt\n",
            "  📄 1374.2000-06-14.beck.ham.txt\n",
            "  📄 0838.2000-04-27.beck.ham.txt\n",
            "  📄 1973.2000-07-21.beck.ham.txt\n",
            "  📄 4500.2001-02-21.beck.ham.txt\n",
            "--------------------------------------------------\n",
            "📂 Directory: /content/enron/enron4\n",
            "  📁 spam\n",
            "  📁 ham\n",
            "  📄 Summary.txt\n",
            "--------------------------------------------------\n",
            "📂 Directory: /content/enron/enron4/spam\n",
            "  📄 3603.2004-12-19.GP.spam.txt\n",
            "  📄 5564.2005-07-03.GP.spam.txt\n",
            "  📄 0807.2004-04-10.GP.spam.txt\n",
            "  📄 2770.2004-10-18.GP.spam.txt\n",
            "  📄 1108.2004-05-07.GP.spam.txt\n",
            "--------------------------------------------------\n",
            "📂 Directory: /content/enron/enron4/ham\n",
            "  📄 1550.2001-07-25.williams.ham.txt\n",
            "  📄 0800.2001-06-26.williams.ham.txt\n",
            "  📄 1788.2001-08-01.williams.ham.txt\n",
            "  📄 2832.2001-10-31.williams.ham.txt\n",
            "  📄 1644.2001-07-27.williams.ham.txt\n",
            "--------------------------------------------------\n",
            "📂 Directory: /content/enron/enron3\n",
            "  📁 spam\n",
            "  📁 ham\n",
            "  📄 Summary.txt\n",
            "--------------------------------------------------\n",
            "📂 Directory: /content/enron/enron3/spam\n",
            "  📄 1401.2004-11-16.BG.spam.txt\n",
            "  📄 0011.2004-08-01.BG.spam.txt\n",
            "  📄 2959.2005-02-07.BG.spam.txt\n",
            "  📄 2733.2005-01-27.BG.spam.txt\n",
            "  📄 0203.2004-08-21.BG.spam.txt\n",
            "--------------------------------------------------\n",
            "📂 Directory: /content/enron/enron3/ham\n",
            "  📄 3912.2001-11-12.kitchen.ham.txt\n",
            "  📄 2260.2001-09-04.kitchen.ham.txt\n",
            "  📄 3078.2001-10-14.kitchen.ham.txt\n",
            "  📄 2460.2001-09-12.kitchen.ham.txt\n",
            "  📄 5137.2002-01-17.kitchen.ham.txt\n",
            "--------------------------------------------------\n",
            "📂 Directory: /content/enron/enron6\n",
            "  📁 spam\n",
            "  📁 ham\n",
            "  📄 Summary.txt\n",
            "--------------------------------------------------\n",
            "📂 Directory: /content/enron/enron6/spam\n",
            "  📄 0210.2004-08-15.BG.spam.txt\n",
            "  📄 5367.2005-06-20.BG.spam.txt\n",
            "  📄 4608.2005-04-30.BG.spam.txt\n",
            "  📄 4715.2005-05-06.BG.spam.txt\n",
            "  📄 0011.2004-08-01.BG.spam.txt\n",
            "--------------------------------------------------\n",
            "📂 Directory: /content/enron/enron6/ham\n",
            "  📄 0779.2000-08-17.lokay.ham.txt\n",
            "  📄 2077.2000-11-30.lokay.ham.txt\n",
            "  📄 3134.2001-02-22.lokay.ham.txt\n",
            "  📄 5179.2001-12-20.lokay.ham.txt\n",
            "  📄 1163.2000-09-22.lokay.ham.txt\n",
            "--------------------------------------------------\n",
            "📂 Directory: /content/enron/enron2\n",
            "  📁 spam\n",
            "  📁 ham\n",
            "  📄 Summary.txt\n",
            "--------------------------------------------------\n",
            "📂 Directory: /content/enron/enron2/spam\n",
            "  📄 4432.2005-07-12.SA_and_HP.spam.txt\n",
            "  📄 1570.2002-11-28.SA_and_HP.spam.txt\n",
            "  📄 3644.2005-07-02.SA_and_HP.spam.txt\n",
            "  📄 5464.2005-07-19.SA_and_HP.spam.txt\n",
            "  📄 5503.2005-07-20.SA_and_HP.spam.txt\n",
            "--------------------------------------------------\n",
            "📂 Directory: /content/enron/enron2/ham\n",
            "  📄 1270.2000-05-18.kaminski.ham.txt\n",
            "  📄 5778.2001-05-04.kaminski.ham.txt\n",
            "  📄 1912.2000-07-27.kaminski.ham.txt\n",
            "  📄 1664.2000-06-30.kaminski.ham.txt\n",
            "  📄 5039.2001-04-09.kaminski.ham.txt\n",
            "--------------------------------------------------\n",
            "📂 Directory: /content/enron/enron1\n",
            "  📁 spam\n",
            "  📁 ham\n",
            "  📄 Summary.txt\n",
            "--------------------------------------------------\n",
            "📂 Directory: /content/enron/enron1/spam\n",
            "  📄 2955.2004-11-26.GP.spam.txt\n",
            "  📄 0153.2004-01-07.GP.spam.txt\n",
            "  📄 1508.2004-07-09.GP.spam.txt\n",
            "  📄 1142.2004-05-18.GP.spam.txt\n",
            "  📄 3012.2004-12-01.GP.spam.txt\n",
            "--------------------------------------------------\n",
            "📂 Directory: /content/enron/enron1/ham\n",
            "  📄 2976.2000-11-30.farmer.ham.txt\n",
            "  📄 1120.2000-05-23.farmer.ham.txt\n",
            "  📄 2086.2000-08-30.farmer.ham.txt\n",
            "  📄 0987.2000-04-24.farmer.ham.txt\n",
            "  📄 4116.2001-03-30.farmer.ham.txt\n",
            "--------------------------------------------------\n"
          ]
        }
      ]
    },
    {
      "cell_type": "code",
      "source": [
        "import os\n",
        "import pandas as pd\n",
        "\n",
        "# Define the base dataset path\n",
        "dataset_path = \"/content/enron/\"\n",
        "\n",
        "# Function to read emails from a folder\n",
        "def load_emails(folder_path, label):\n",
        "    emails = []\n",
        "\n",
        "    # Check if the folder exists before reading files\n",
        "    if not os.path.exists(folder_path):\n",
        "        print(f\"❌ Error: Folder '{folder_path}' not found!\")\n",
        "        return []\n",
        "\n",
        "    for filename in os.listdir(folder_path):\n",
        "        file_path = os.path.join(folder_path, filename)\n",
        "\n",
        "        # Open email file and read content\n",
        "        with open(file_path, \"r\", encoding=\"latin-1\") as f:\n",
        "            content = f.read()\n",
        "            emails.append((content, label))\n",
        "\n",
        "    print(f\"✅ Loaded {len(emails)} emails from {folder_path}\")\n",
        "    return emails\n",
        "\n",
        "# Initialize lists to store all spam and ham emails\n",
        "all_spam = []\n",
        "all_ham = []\n",
        "\n",
        "# Loop through all enron folders\n",
        "for i in range(1, 7):  # enron1 to enron6\n",
        "    spam_path = f\"{dataset_path}enron{i}/spam/\"\n",
        "    ham_path = f\"{dataset_path}enron{i}/ham/\"\n",
        "\n",
        "    # Load emails from each folder\n",
        "    all_spam.extend(load_emails(spam_path, 1))  # 1 for spam\n",
        "    all_ham.extend(load_emails(ham_path, 0))    # 0 for ham\n",
        "\n",
        "# Combine all emails into a Pandas DataFrame\n",
        "df = pd.DataFrame(all_spam + all_ham, columns=[\"email\", \"label\"])\n",
        "\n",
        "# Display the first few rows\n",
        "print(\"\\n📊 Dataset Preview:\")\n",
        "print(df.head())\n",
        "\n",
        "print(f\"\\n✅ Total emails loaded: {len(df)} (Spam: {len(all_spam)}, Ham: {len(all_ham)})\")\n"
      ],
      "metadata": {
        "colab": {
          "base_uri": "https://localhost:8080/"
        },
        "id": "c6f6pK-NT2z1",
        "outputId": "5bbf2735-c9a4-46e7-b021-a87932e3c692"
      },
      "execution_count": 42,
      "outputs": [
        {
          "output_type": "stream",
          "name": "stdout",
          "text": [
            "✅ Loaded 1500 emails from /content/enron/enron1/spam/\n",
            "✅ Loaded 3672 emails from /content/enron/enron1/ham/\n",
            "✅ Loaded 1496 emails from /content/enron/enron2/spam/\n",
            "✅ Loaded 4361 emails from /content/enron/enron2/ham/\n",
            "✅ Loaded 1500 emails from /content/enron/enron3/spam/\n",
            "✅ Loaded 4012 emails from /content/enron/enron3/ham/\n",
            "✅ Loaded 4499 emails from /content/enron/enron4/spam/\n",
            "✅ Loaded 1500 emails from /content/enron/enron4/ham/\n",
            "✅ Loaded 3675 emails from /content/enron/enron5/spam/\n",
            "✅ Loaded 1500 emails from /content/enron/enron5/ham/\n",
            "✅ Loaded 4500 emails from /content/enron/enron6/spam/\n",
            "✅ Loaded 1500 emails from /content/enron/enron6/ham/\n",
            "\n",
            "📊 Dataset Preview:\n",
            "                                               email  label\n",
            "0  Subject: personal\\nwin hang bank ltd\\n253 - 25...      1\n",
            "1       Subject: learn to make a fortune on ebay !\\n      1\n",
            "2  Subject: how ' s it going\\nhey marjorie ,\\ni '...      1\n",
            "3  Subject: prozacs meds\\n30 million people now\\n...      1\n",
            "4  Subject: submision result\\nhave you heard ?\\no...      1\n",
            "\n",
            "✅ Total emails loaded: 33715 (Spam: 17170, Ham: 16545)\n"
          ]
        }
      ]
    },
    {
      "cell_type": "code",
      "source": [
        "import re\n",
        "import string\n",
        "import nltk\n",
        "from nltk.corpus import stopwords\n",
        "from sklearn.model_selection import train_test_split\n",
        "from sklearn.feature_extraction.text import TfidfVectorizer\n",
        "\n",
        "# Download NLTK stopwords (if not already installed)\n",
        "nltk.download(\"stopwords\")\n",
        "\n",
        "# Define a function to clean email text\n",
        "def clean_text(text):\n",
        "    text = text.lower()  # Convert to lowercase\n",
        "    text = re.sub(r'\\d+', '', text)  # Remove numbers\n",
        "    text = text.translate(str.maketrans('', '', string.punctuation))  # Remove punctuation\n",
        "    words = text.split()  # Tokenize text\n",
        "    words = [word for word in words if word not in stopwords.words(\"english\")]  # Remove stopwords\n",
        "    return \" \".join(words)\n",
        "\n",
        "# Apply text cleaning to all emails\n",
        "df[\"cleaned_email\"] = df[\"email\"].apply(clean_text)\n",
        "\n",
        "# Convert text to numerical features using TF-IDF\n",
        "vectorizer = TfidfVectorizer(max_features=5000)  # Keep top 5000 words\n",
        "X = vectorizer.fit_transform(df[\"cleaned_email\"])  # Transform text into numerical form\n",
        "y = df[\"label\"]  # Labels (spam = 1, non-spam = 0)\n",
        "\n",
        "# Split into training and testing sets (80% train, 20% test)\n",
        "X_train, X_test, y_train, y_test = train_test_split(X, y, test_size=0.2, random_state=42)\n",
        "\n",
        "print(\"\\n✅ Preprocessing Complete! Data is ready for model training.\")\n",
        "print(f\"🔹 Training Data: {X_train.shape}, Testing Data: {X_test.shape}\")\n"
      ],
      "metadata": {
        "colab": {
          "base_uri": "https://localhost:8080/"
        },
        "id": "58jLGEv-UPmC",
        "outputId": "1031b6c4-26e5-42da-c635-0409a875bd8b"
      },
      "execution_count": 43,
      "outputs": [
        {
          "output_type": "stream",
          "name": "stderr",
          "text": [
            "[nltk_data] Downloading package stopwords to /root/nltk_data...\n",
            "[nltk_data]   Package stopwords is already up-to-date!\n"
          ]
        },
        {
          "output_type": "stream",
          "name": "stdout",
          "text": [
            "\n",
            "✅ Preprocessing Complete! Data is ready for model training.\n",
            "🔹 Training Data: (26972, 5000), Testing Data: (6743, 5000)\n"
          ]
        }
      ]
    },
    {
      "cell_type": "code",
      "source": [
        "from sklearn.naive_bayes import MultinomialNB\n",
        "from sklearn.metrics import accuracy_score, classification_report, confusion_matrix\n",
        "\n",
        "# Train the Naïve Bayes classifier\n",
        "model = MultinomialNB()\n",
        "model.fit(X_train, y_train)\n",
        "\n",
        "# Make predictions on the test set\n",
        "y_pred = model.predict(X_test)\n",
        "\n",
        "# Evaluate model performance\n",
        "accuracy = accuracy_score(y_test, y_pred)\n",
        "print(f\"\\n✅ Model Training Complete! Accuracy: {accuracy:.2f}\")\n",
        "\n",
        "# Show classification report\n",
        "print(\"\\n📊 Classification Report:\")\n",
        "print(classification_report(y_test, y_pred))\n",
        "\n",
        "# Show confusion matrix\n",
        "print(\"\\n📌 Confusion Matrix:\")\n",
        "print(confusion_matrix(y_test, y_pred))\n"
      ],
      "metadata": {
        "colab": {
          "base_uri": "https://localhost:8080/"
        },
        "id": "WluEDtTbWcQM",
        "outputId": "e3ca44b2-48ab-4253-e70c-3c6744e79e93"
      },
      "execution_count": 44,
      "outputs": [
        {
          "output_type": "stream",
          "name": "stdout",
          "text": [
            "\n",
            "✅ Model Training Complete! Accuracy: 0.98\n",
            "\n",
            "📊 Classification Report:\n",
            "              precision    recall  f1-score   support\n",
            "\n",
            "           0       0.99      0.98      0.98      3278\n",
            "           1       0.98      0.99      0.98      3465\n",
            "\n",
            "    accuracy                           0.98      6743\n",
            "   macro avg       0.98      0.98      0.98      6743\n",
            "weighted avg       0.98      0.98      0.98      6743\n",
            "\n",
            "\n",
            "📌 Confusion Matrix:\n",
            "[[3211   67]\n",
            " [  47 3418]]\n"
          ]
        }
      ]
    },
    {
      "cell_type": "code",
      "source": [
        "import pickle\n",
        "\n",
        "# Define file paths\n",
        "model_filename = \"/content/spam_model.pkl\"\n",
        "vectorizer_filename = \"/content/tfidf_vectorizer.pkl\"\n",
        "\n",
        "# Save the trained model\n",
        "with open(model_filename, \"wb\") as model_file:\n",
        "    pickle.dump(model, model_file)\n",
        "\n",
        "# Save the TF-IDF vectorizer\n",
        "with open(vectorizer_filename, \"wb\") as vectorizer_file:\n",
        "    pickle.dump(vectorizer, vectorizer_file)\n",
        "\n",
        "print(\"✅ Model and vectorizer saved successfully!\")\n"
      ],
      "metadata": {
        "colab": {
          "base_uri": "https://localhost:8080/"
        },
        "id": "kEFFru4IW99i",
        "outputId": "c76092fd-c7f7-4080-af33-8740a412c296"
      },
      "execution_count": 45,
      "outputs": [
        {
          "output_type": "stream",
          "name": "stdout",
          "text": [
            "✅ Model and vectorizer saved successfully!\n"
          ]
        }
      ]
    },
    {
      "cell_type": "code",
      "source": [
        "# Load the saved model\n",
        "with open(model_filename, \"rb\") as model_file:\n",
        "    loaded_model = pickle.load(model_file)\n",
        "\n",
        "# Load the saved TF-IDF vectorizer\n",
        "with open(vectorizer_filename, \"rb\") as vectorizer_file:\n",
        "    loaded_vectorizer = pickle.load(vectorizer_file)\n",
        "\n",
        "print(\"✅ Model and vectorizer loaded successfully!\")\n",
        "\n",
        "# Example: Test with a new email\n",
        "sample_email = [\"Congratulations! You've won a free iPhone! Click here to claim.\"]\n",
        "sample_email_clean = [clean_text(sample_email[0])]  # Apply same text cleaning\n",
        "sample_tfidf = loaded_vectorizer.transform(sample_email_clean)  # Transform text\n",
        "\n",
        "# Predict using the loaded model\n",
        "prediction = loaded_model.predict(sample_tfidf)\n",
        "\n",
        "print(\"\\n📌 Prediction:\", \"Spam\" if prediction[0] == 1 else \"Ham\")\n"
      ],
      "metadata": {
        "colab": {
          "base_uri": "https://localhost:8080/"
        },
        "id": "kBTFqg5fXL0g",
        "outputId": "3e20b07e-454a-4fed-b88f-627b05c3c2ea"
      },
      "execution_count": 46,
      "outputs": [
        {
          "output_type": "stream",
          "name": "stdout",
          "text": [
            "✅ Model and vectorizer loaded successfully!\n",
            "\n",
            "📌 Prediction: Spam\n"
          ]
        }
      ]
    },
    {
      "cell_type": "code",
      "source": [
        "from google.colab import files\n",
        "\n",
        "files.download(\"/content/spam_model.pkl\")\n",
        "files.download(\"/content/tfidf_vectorizer.pkl\")\n"
      ],
      "metadata": {
        "colab": {
          "base_uri": "https://localhost:8080/",
          "height": 17
        },
        "id": "oHObLTSvYG74",
        "outputId": "4754f689-f9ed-45c7-9511-986602f7298d"
      },
      "execution_count": 47,
      "outputs": [
        {
          "output_type": "display_data",
          "data": {
            "text/plain": [
              "<IPython.core.display.Javascript object>"
            ],
            "application/javascript": [
              "\n",
              "    async function download(id, filename, size) {\n",
              "      if (!google.colab.kernel.accessAllowed) {\n",
              "        return;\n",
              "      }\n",
              "      const div = document.createElement('div');\n",
              "      const label = document.createElement('label');\n",
              "      label.textContent = `Downloading \"${filename}\": `;\n",
              "      div.appendChild(label);\n",
              "      const progress = document.createElement('progress');\n",
              "      progress.max = size;\n",
              "      div.appendChild(progress);\n",
              "      document.body.appendChild(div);\n",
              "\n",
              "      const buffers = [];\n",
              "      let downloaded = 0;\n",
              "\n",
              "      const channel = await google.colab.kernel.comms.open(id);\n",
              "      // Send a message to notify the kernel that we're ready.\n",
              "      channel.send({})\n",
              "\n",
              "      for await (const message of channel.messages) {\n",
              "        // Send a message to notify the kernel that we're ready.\n",
              "        channel.send({})\n",
              "        if (message.buffers) {\n",
              "          for (const buffer of message.buffers) {\n",
              "            buffers.push(buffer);\n",
              "            downloaded += buffer.byteLength;\n",
              "            progress.value = downloaded;\n",
              "          }\n",
              "        }\n",
              "      }\n",
              "      const blob = new Blob(buffers, {type: 'application/binary'});\n",
              "      const a = document.createElement('a');\n",
              "      a.href = window.URL.createObjectURL(blob);\n",
              "      a.download = filename;\n",
              "      div.appendChild(a);\n",
              "      a.click();\n",
              "      div.remove();\n",
              "    }\n",
              "  "
            ]
          },
          "metadata": {}
        },
        {
          "output_type": "display_data",
          "data": {
            "text/plain": [
              "<IPython.core.display.Javascript object>"
            ],
            "application/javascript": [
              "download(\"download_8b396c5a-e199-4f47-97f5-3858a6a58145\", \"spam_model.pkl\", 160616)"
            ]
          },
          "metadata": {}
        },
        {
          "output_type": "display_data",
          "data": {
            "text/plain": [
              "<IPython.core.display.Javascript object>"
            ],
            "application/javascript": [
              "\n",
              "    async function download(id, filename, size) {\n",
              "      if (!google.colab.kernel.accessAllowed) {\n",
              "        return;\n",
              "      }\n",
              "      const div = document.createElement('div');\n",
              "      const label = document.createElement('label');\n",
              "      label.textContent = `Downloading \"${filename}\": `;\n",
              "      div.appendChild(label);\n",
              "      const progress = document.createElement('progress');\n",
              "      progress.max = size;\n",
              "      div.appendChild(progress);\n",
              "      document.body.appendChild(div);\n",
              "\n",
              "      const buffers = [];\n",
              "      let downloaded = 0;\n",
              "\n",
              "      const channel = await google.colab.kernel.comms.open(id);\n",
              "      // Send a message to notify the kernel that we're ready.\n",
              "      channel.send({})\n",
              "\n",
              "      for await (const message of channel.messages) {\n",
              "        // Send a message to notify the kernel that we're ready.\n",
              "        channel.send({})\n",
              "        if (message.buffers) {\n",
              "          for (const buffer of message.buffers) {\n",
              "            buffers.push(buffer);\n",
              "            downloaded += buffer.byteLength;\n",
              "            progress.value = downloaded;\n",
              "          }\n",
              "        }\n",
              "      }\n",
              "      const blob = new Blob(buffers, {type: 'application/binary'});\n",
              "      const a = document.createElement('a');\n",
              "      a.href = window.URL.createObjectURL(blob);\n",
              "      a.download = filename;\n",
              "      div.appendChild(a);\n",
              "      a.click();\n",
              "      div.remove();\n",
              "    }\n",
              "  "
            ]
          },
          "metadata": {}
        },
        {
          "output_type": "display_data",
          "data": {
            "text/plain": [
              "<IPython.core.display.Javascript object>"
            ],
            "application/javascript": [
              "download(\"download_55859c19-9f6c-46b1-88b9-fd61cfd19939\", \"tfidf_vectorizer.pkl\", 183355)"
            ]
          },
          "metadata": {}
        }
      ]
    }
  ]
}